{
 "cells": [
  {
   "cell_type": "markdown",
   "id": "bc6bd69f",
   "metadata": {},
   "source": [
    "## learn to code excercise 3\n",
    "\"stretch and challenge\" excercises"
   ]
  },
  {
   "cell_type": "markdown",
   "id": "b0971ae1",
   "metadata": {},
   "source": [
    "### Excercise 1: summation of a list"
   ]
  },
  {
   "cell_type": "code",
   "execution_count": 12,
   "id": "cc62a5a4",
   "metadata": {},
   "outputs": [
    {
     "name": "stdout",
     "output_type": "stream",
     "text": [
      "Passed test for []\n",
      "Passed test for [1, 2]\n",
      "Passed test for range(0, 10)\n"
     ]
    }
   ],
   "source": [
    "def sum(xs):\n",
    "    sum = 0\n",
    "    for num in xs:\n",
    "        sum += num\n",
    "    return sum\n",
    "\n",
    "    #could be done with sum(xs)\n",
    "\n",
    "def test(test_case, expected):\n",
    "    actual = sum(test_case)\n",
    "    if actual == expected:\n",
    "        print(\"Passed test for \" + str(test_case))\n",
    "    else:\n",
    "        print(\"Didn't pass test for \" + str(test_case))\n",
    "        print(\"The result was \" + str(actual) + \" but it should have been \" + str(expected))\n",
    "\n",
    "test([], 0)\n",
    "test([1, 2], 3)\n",
    "test(range(10), 45)"
   ]
  },
  {
   "cell_type": "markdown",
   "id": "784a6163",
   "metadata": {},
   "source": [
    "### Excercise 2: product of a list"
   ]
  },
  {
   "cell_type": "code",
   "execution_count": 9,
   "id": "3ca755c8",
   "metadata": {},
   "outputs": [
    {
     "name": "stdout",
     "output_type": "stream",
     "text": [
      "Passed test for [1, 2]\n",
      "Passed test for range(1, 11)\n",
      "Passed test for [1, 2, 3, 0, 4, 5]\n"
     ]
    }
   ],
   "source": [
    "def product(xs):\n",
    "    prod = 1\n",
    "    for num in xs:\n",
    "        prod *= num\n",
    "    return prod\n",
    "\n",
    "def test(test_case, expected):\n",
    "    actual = product(test_case)\n",
    "    if actual == expected:\n",
    "        print(\"Passed test for \" + str(test_case))\n",
    "    else:\n",
    "        print(\"Didn't pass test for \" + str(test_case))\n",
    "        print(\"The result was \" + str(actual) + \" but it should have been \" + str(expected))\n",
    "\n",
    "test([1, 2], 2)\n",
    "test(range(1, 11), 3628800)\n",
    "test([1, 2, 3, 0, 4, 5], 0)"
   ]
  },
  {
   "cell_type": "markdown",
   "id": "69e049f3",
   "metadata": {},
   "source": [
    "### Excercise 3: mean of a list"
   ]
  },
  {
   "cell_type": "code",
   "execution_count": 10,
   "id": "47503159",
   "metadata": {},
   "outputs": [
    {
     "name": "stdout",
     "output_type": "stream",
     "text": [
      "Passed test for [1, 2]\n",
      "Passed test for range(0, 10)\n",
      "Passed test for [-1, 0, 1]\n"
     ]
    }
   ],
   "source": [
    "def mean(xs):\n",
    "    return sum(xs)/len(xs)\n",
    "    \n",
    "def test(test_case, expected):\n",
    "    actual = mean(test_case)\n",
    "    if actual == expected:\n",
    "        print(\"Passed test for \" + str(test_case))\n",
    "    else:\n",
    "        print(\"Didn't pass test for \" + str(test_case))\n",
    "        print(\"The result was \" + str(actual) + \" but it should have been \" + str(expected))\n",
    "\n",
    "test([1, 2], 1.5)\n",
    "test(range(0, 10), 4.5)\n",
    "test([-1, 0, 1], 0)"
   ]
  },
  {
   "cell_type": "markdown",
   "id": "1e946a0c",
   "metadata": {},
   "source": [
    "### Excercise 4: flatten (zip) list"
   ]
  },
  {
   "cell_type": "code",
   "execution_count": 14,
   "id": "616d333b",
   "metadata": {},
   "outputs": [
    {
     "name": "stdout",
     "output_type": "stream",
     "text": [
      "Passed test for []\n",
      "Passed test for [[1, 2], [3, 4]]\n",
      "Passed test for [[], [1, 2], [3, 4], []]\n"
     ]
    }
   ],
   "source": [
    "import itertools\n",
    "\n",
    "def flatten(xs):\n",
    "    return list(itertools.chain(*xs))\n",
    "    \n",
    "def test(test_case, expected):\n",
    "    actual = flatten(test_case)\n",
    "    if actual == expected:\n",
    "        print(\"Passed test for \" + str(test_case))\n",
    "    else:\n",
    "        print(\"Didn't pass test for \" + str(test_case))\n",
    "        print(\"The result was \" + str(actual) + \" but it should have been \" + str(expected))\n",
    "\n",
    "test([], [])\n",
    "test([[1, 2], [3, 4]], [1, 2, 3, 4])\n",
    "test([[], [1, 2], [3, 4], []], [1, 2, 3, 4])"
   ]
  },
  {
   "cell_type": "markdown",
   "id": "4d4bdbe9",
   "metadata": {},
   "source": [
    "### Excercise 5: Pairwise sum"
   ]
  },
  {
   "cell_type": "code",
   "execution_count": 17,
   "id": "a15d5812",
   "metadata": {},
   "outputs": [
    {
     "name": "stdout",
     "output_type": "stream",
     "text": [
      "Passed test for [], []\n",
      "Passed test for [1, 2], [3, 4]\n",
      "Passed test for [-10, 10, 20], [10, -10, -20]\n"
     ]
    }
   ],
   "source": [
    "from operator import add\n",
    "\n",
    "def sum2(xs, ys):    \n",
    "    return list(map(add, xs,ys))\n",
    "    \n",
    "def test(test_case_xs, test_case_ys, expected):\n",
    "    actual = sum2(test_case_xs, test_case_ys)\n",
    "    if actual == expected:\n",
    "        print(\"Passed test for \" + str(test_case_xs) + \", \" + str(test_case_ys))\n",
    "    else:\n",
    "        print(\"Didn't pass test for \" + str(test_case_xs) + \", \" + str(test_case_ys))\n",
    "        print(\"The result was \" + str(actual) + \" but it should have been \" + str(expected))\n",
    "\n",
    "test([], [], [])\n",
    "test([1, 2], [3, 4], [4, 6])\n",
    "test([-10, 10, 20], [10, -10, -20], [0, 0, 0])"
   ]
  },
  {
   "cell_type": "markdown",
   "id": "93261709",
   "metadata": {},
   "source": [
    "### Excercise 6: Pairwise sum - variable lengths"
   ]
  },
  {
   "cell_type": "code",
   "execution_count": 21,
   "id": "b96ed20f",
   "metadata": {},
   "outputs": [
    {
     "name": "stdout",
     "output_type": "stream",
     "text": [
      "Passed test for [], []\n",
      "Passed test for [1, 2], [3, 4]\n",
      "Passed test for [-10, 10, 20], [10, -10, -20]\n",
      "Passed test for [1, 2, 3, 4, 5], [1, 2, 3, 0, 0]\n",
      "Passed test for [1, 2, 3, 0, 0], [1, 2, 3, 4, 5]\n"
     ]
    }
   ],
   "source": [
    "def sum2(xs, ys):\n",
    "    #pad the shorter list with zeros to allow for map to work\n",
    "    if len(xs) < len(ys):\n",
    "        xs += [0] * (len(ys)-len(xs))\n",
    "    else:\n",
    "        ys += [0] * (len(xs)-len(ys))\n",
    "    return [sum(x) for x in zip(xs, ys)]\n",
    "\n",
    "def test(test_case_xs, test_case_ys, expected):\n",
    "    actual = sum2(test_case_xs, test_case_ys)\n",
    "    if actual == expected:\n",
    "        print(\"Passed test for \" + str(test_case_xs) + \", \" + str(test_case_ys))\n",
    "    else:\n",
    "        print(\"Didn't pass test for \" + str(test_case_xs) + \", \" + str(test_case_ys))\n",
    "        print(\"The result was \" + str(actual) + \" but it should have been \" + str(expected))\n",
    "\n",
    "test([], [], [])\n",
    "test([1, 2], [3, 4], [4, 6])\n",
    "test([-10, 10, 20], [10, -10, -20], [0, 0, 0])\n",
    "test([1, 2, 3, 4, 5], [1, 2, 3], [2, 4, 6, 4, 5])\n",
    "test([1, 2, 3], [1, 2, 3, 4, 5], [2, 4, 6, 4, 5])"
   ]
  },
  {
   "cell_type": "markdown",
   "id": "7e43be57",
   "metadata": {},
   "source": [
    "### Excercise 7: Divisibility"
   ]
  },
  {
   "cell_type": "code",
   "execution_count": 24,
   "id": "6c3d99cb",
   "metadata": {},
   "outputs": [
    {
     "name": "stdout",
     "output_type": "stream",
     "text": [
      "Passed test for 0\n",
      "Passed test for 3\n",
      "Passed test for 5\n",
      "Passed test for 6\n",
      "Passed test for 10\n"
     ]
    }
   ],
   "source": [
    "def threes_or_fives(n):\n",
    "    list = []\n",
    "    for i in range(n):\n",
    "        if i%3 == 0:\n",
    "            list.append(i)\n",
    "        elif i%5 == 0:\n",
    "            list.append(i)\n",
    "    return list\n",
    "    \n",
    "    # return a list of all the integers greater than or equal to zero that are\n",
    "    # divisible by three or five and less than n\n",
    "    # You might want to look up the modulus (%) operator, which computes the\n",
    "    # remainder of division\n",
    "\n",
    "def test(test_case, expected):\n",
    "    actual = threes_or_fives(test_case)\n",
    "    if actual == expected:\n",
    "        print(\"Passed test for \" + str(test_case))\n",
    "    else:\n",
    "        print(\"Didn't pass test for \" + str(test_case))\n",
    "        print(\"The result was \" + str(actual) + \" but it should have been \" + str(expected))\n",
    "\n",
    "test(0, [])\n",
    "test(3, [0])\n",
    "test(5, [0, 3])\n",
    "test(6, [0, 3, 5])\n",
    "test(10, [0, 3, 5, 6, 9])"
   ]
  },
  {
   "cell_type": "markdown",
   "id": "c1c51bd5",
   "metadata": {},
   "source": [
    "### Excercise 8: Filter a list"
   ]
  },
  {
   "cell_type": "code",
   "execution_count": 25,
   "id": "2d2d3af8",
   "metadata": {},
   "outputs": [
    {
     "name": "stdout",
     "output_type": "stream",
     "text": [
      "Passed test for []\n",
      "Passed test for [0]\n",
      "Passed test for [0, 2, 3]\n",
      "Passed test for [10, 9, 8, 7, 6, 5, 4, 3, 2, 1, 0]\n"
     ]
    }
   ],
   "source": [
    "def filtered_even(xs):\n",
    "    l = []\n",
    "    for nums in xs:\n",
    "        if nums%2 == 0:\n",
    "            l.append(nums)\n",
    "    return l\n",
    "    \n",
    "def test(test_case, expected):\n",
    "    actual = filtered_even(test_case)\n",
    "    if actual == expected:\n",
    "        print(\"Passed test for \" + str(test_case))\n",
    "    else:\n",
    "        print(\"Didn't pass test for \" + str(test_case))\n",
    "        print(\"The result was \" + str(actual) + \" but it should have been \" + str(expected))\n",
    "\n",
    "test([], [])\n",
    "test([0], [0])\n",
    "test([0, 2, 3], [0, 2])\n",
    "test([10, 9, 8, 7, 6, 5, 4, 3, 2, 1, 0], [10, 8, 6, 4, 2, 0])"
   ]
  },
  {
   "cell_type": "markdown",
   "id": "6b3ea8a3",
   "metadata": {},
   "source": [
    "### Excercise 9: Filter a list of strings"
   ]
  },
  {
   "cell_type": "code",
   "execution_count": 27,
   "id": "f3fe1452",
   "metadata": {},
   "outputs": [
    {
     "name": "stdout",
     "output_type": "stream",
     "text": [
      "Passed test for []\n",
      "Passed test for ['Learn', 'to', 'Code']\n",
      "Passed test for ['Oxford', 'University', 'Computer', 'Society']\n",
      "Passed test for ['learn', 'to', 'code']\n"
     ]
    }
   ],
   "source": [
    "def filtered_text(xs):\n",
    "    l = []\n",
    "    for string in xs:\n",
    "        if not string[0].isupper():\n",
    "            l.append(string)\n",
    "    return l\n",
    "            \n",
    "def test(test_case, expected):\n",
    "    actual = filtered_text(test_case)\n",
    "    if actual == expected:\n",
    "        print(\"Passed test for \" + str(test_case))\n",
    "    else:\n",
    "        print(\"Didn't pass test for \" + str(test_case))\n",
    "        print(\"The result was \" + str(actual) + \" but it should have been \" + str(expected))\n",
    "\n",
    "test([], [])\n",
    "test([\"Learn\", \"to\", \"Code\"], [\"to\"])\n",
    "test([\"Oxford\", \"University\", \"Computer\", \"Society\"], [])\n",
    "test([\"learn\", \"to\", \"code\"], [\"learn\", \"to\", \"code\"])"
   ]
  },
  {
   "cell_type": "markdown",
   "id": "67322924",
   "metadata": {},
   "source": [
    "### Excercise 10: Rotate a list"
   ]
  },
  {
   "cell_type": "code",
   "execution_count": 28,
   "id": "8f8c3757",
   "metadata": {},
   "outputs": [
    {
     "name": "stdout",
     "output_type": "stream",
     "text": [
      "Passed test for [], 0\n",
      "Passed test for [], 10\n",
      "Passed test for [1, 2, 3], 1\n",
      "Passed test for [1, 2, 3, 4, 5], 2\n",
      "Passed test for [1, 2, 3, 4, 5], 5\n",
      "Passed test for [1, 2, 3, 4, 5], -1\n"
     ]
    }
   ],
   "source": [
    "def rot(xs, n):\n",
    "    return xs[n:] + xs[:n]\n",
    "    # return a list of xs rotated by n\n",
    "\n",
    "def test(test_case_xs, test_case_n, expected):\n",
    "    actual = rot(test_case_xs, test_case_n)\n",
    "    if actual == expected:\n",
    "        print(\"Passed test for \" + str(test_case_xs) + \", \" + str(test_case_n))\n",
    "    else:\n",
    "        print(\"Didn't pass test for \" + str(test_case_xs) + \", \" + str(test_case_n))\n",
    "        print(\"The result was \" + str(actual) + \" but it should have been \" + str(expected))\n",
    "\n",
    "test([], 0, [])\n",
    "test([], 10, [])\n",
    "test([1, 2, 3], 1, [2, 3, 1])\n",
    "test([1, 2, 3, 4, 5], 2, [3, 4, 5, 1, 2])\n",
    "test([1, 2, 3, 4, 5], 5, [1, 2, 3, 4, 5])\n",
    "test([1, 2, 3, 4, 5], -1, [5, 1, 2, 3, 4])"
   ]
  },
  {
   "cell_type": "markdown",
   "id": "c1e24ca1",
   "metadata": {},
   "source": [
    "### Excercise 11: Remove Duplicates"
   ]
  },
  {
   "cell_type": "code",
   "execution_count": 30,
   "id": "c7be2198",
   "metadata": {},
   "outputs": [
    {
     "name": "stdout",
     "output_type": "stream",
     "text": [
      "Passed test for []\n",
      "Passed test for [0, 0, 0, 1]\n",
      "Passed test for [1, 4, 5, 1, 5, 4]\n",
      "Passed test for [10, 9, 8, 7, 6, 5, 4, 3, 2, 1]\n",
      "Passed test for [10, 10, 9, 9, 8, 7, 6, 5, 6, 5, 4, 3, 2, 1]\n"
     ]
    }
   ],
   "source": [
    "def uniques(xs):\n",
    "    return list(set(xs))\n",
    "    # return a list of all the unique elements\n",
    "\n",
    "def test(test_case, expected):\n",
    "    actual = uniques(test_case)\n",
    "    if actual == expected:\n",
    "        print(\"Passed test for \" + str(test_case))\n",
    "    else:\n",
    "        print(\"Didn't pass test for \" + str(test_case))\n",
    "        print(\"The result was \" + str(actual) + \" but it should have been \" + str(expected))\n",
    "\n",
    "test([], [])\n",
    "test([0, 0, 0, 1], [0, 1])\n",
    "test([1, 4, 5, 1, 5, 4], [1, 4, 5])\n",
    "test([10, 9, 8, 7, 6, 5, 4, 3, 2, 1], [1, 2, 3, 4, 5, 6, 7, 8, 9, 10])\n",
    "test([10, 10, 9, 9, 8, 7, 6, 5, 6, 5, 4, 3, 2, 1], [1, 2, 3, 4, 5, 6, 7, 8, 9, 10])"
   ]
  },
  {
   "cell_type": "markdown",
   "id": "d24c0e3e",
   "metadata": {},
   "source": [
    "### Excercise 12: Binary Search"
   ]
  },
  {
   "cell_type": "code",
   "execution_count": 32,
   "id": "9ae7ce1c",
   "metadata": {},
   "outputs": [
    {
     "name": "stdout",
     "output_type": "stream",
     "text": [
      "Passed test for x\n",
      "Passed test for code\n",
      "Passed test for learn\n",
      "Passed test for to\n",
      "Passed test for a\n",
      "Passed test for brownish\n",
      "Passed test for cloud\n",
      "Passed test for descends\n",
      "Passed test for every\n",
      "Passed test for friday,\n",
      "Passed test for growing,\n",
      "Passed test for hovering\n",
      "Passed test for impressively,\n",
      "Passed test for jeopardously\n",
      "Passed test for keeping\n",
      "Passed test for low,\n",
      "Passed test for moving\n",
      "Passed test for nimbly\n",
      "Passed test for over\n",
      "Passed test for populated\n",
      "Passed test for quarters,\n",
      "Passed test for returning\n",
      "Passed test for silently\n",
      "Passed test for to\n",
      "Passed test for unknown,\n",
      "Passed test for violently\n",
      "Passed test for wild\n",
      "Passed test for xylogenic\n",
      "Passed test for yttriferous\n",
      "Passed test for zones.\n"
     ]
    }
   ],
   "source": [
    "def bin_search(xs, x):\n",
    "    low = 0\n",
    "    high = len(xs)-1\n",
    "    while low <= high:\n",
    "        mid = low + (high-low)//2\n",
    "        if xs[mid] == x:\n",
    "            return mid\n",
    "        elif xs[mid] < x:\n",
    "            low = mid + 1\n",
    "        else:\n",
    "            high = mid - 1\n",
    "    return 0\n",
    "    \n",
    "        \n",
    "    # return the least index of an element equal to x in the sorted list xs\n",
    "\n",
    "def test(test_case_xs, test_case_x, expected):\n",
    "    actual = bin_search(test_case_xs, test_case_x)\n",
    "    if actual == expected:\n",
    "        print(\"Passed test for \" + test_case_x)\n",
    "    else:\n",
    "        print(\"Didn't pass test for \" + test_case_x)\n",
    "        print(\"The result was \" + str(actual) + \" but it should have been \" + str(expected))\n",
    "\n",
    "test([], \"x\", 0)\n",
    "test([\"code\", \"learn\", \"to\"], \"code\", 0)\n",
    "test([\"code\", \"learn\", \"to\"], \"learn\", 1)\n",
    "test([\"code\", \"learn\", \"to\"], \"to\", 2)\n",
    "# https://www.quora.com/What-are-the-longest-sentences-that-can-be-formed-with-words-whose-starting-letters-are-in-alphabetic-order\n",
    "\n",
    "sentence = \"A brownish cloud descends every Friday, growing, hovering impressively, jeopardously keeping low, moving nimbly over populated quarters, returning silently to unknown, violently wild xylogenic yttriferous zones.\"\n",
    "words = sentence.lower().split(\" \")\n",
    "\n",
    "for i in range(0, len(words)):\n",
    "    test(words, words[i], i)"
   ]
  },
  {
   "cell_type": "markdown",
   "id": "32c7b0cc",
   "metadata": {},
   "source": [
    "### Excercise 13: Merging lists"
   ]
  },
  {
   "cell_type": "code",
   "execution_count": 2,
   "id": "4ba188ba",
   "metadata": {},
   "outputs": [
    {
     "name": "stdout",
     "output_type": "stream",
     "text": [
      "Passed test for [], []\n",
      "Passed test for [0], []\n",
      "Passed test for [], [0]\n",
      "Passed test for [2], []\n",
      "Passed test for [], [3, 4, 5]\n",
      "Passed test for [3, 4, 5], []\n",
      "Passed test for [3, 4, 5, 6, 7, 8, 9], []\n",
      "Passed test for [], [4, 5, 6, 7, 8, 9]\n"
     ]
    }
   ],
   "source": [
    "def merge(xs, ys):\n",
    "    if not xs: return ys\n",
    "    if not ys: return xs\n",
    "    ls = []\n",
    "    while xs and ys:\n",
    "        if xs[0] < ys[0]:\n",
    "            ls.append(xs.pop(0))\n",
    "        else:\n",
    "            ls.append(ys.pop(0))\n",
    "    ls += xs\n",
    "    ls += ys\n",
    "    return ls\n",
    "    # return a sorted list with the merged contents of the sorted lists xs and ys\n",
    "\n",
    "def test(test_case_xs, test_case_ys, expected):\n",
    "    actual = merge(test_case_xs, test_case_ys)\n",
    "    if actual == expected:\n",
    "        print(\"Passed test for \" + str(test_case_xs) + \", \" + str(test_case_ys))\n",
    "    else:\n",
    "        print(\"Didn't pass test for \" + str(test_case_xs) + \", \" + str(test_case_ys))\n",
    "        print(\"The result was \" + str(actual) + \" but it should have been \" + str(expected))\n",
    "        \n",
    "test([], [], [])\n",
    "test([0], [], [0])\n",
    "test([], [0], [0])\n",
    "test([0, 1, 2], [0, 1, 2], [0, 0, 1, 1, 2, 2])\n",
    "test([0, 1, 2], [3, 4, 5], [0, 1, 2, 3, 4, 5])\n",
    "test([3, 4, 5], [0, 1, 2], [0, 1, 2, 3, 4, 5])\n",
    "test([0, 1, 2, 3, 4, 5, 6, 7, 8, 9], [0, 1, 2, 3], [0, 0, 1, 1, 2, 2, 3, 3, 4, 5, 6, 7, 8, 9])\n",
    "test([0, 1, 2, 3], [0 , 1, 2, 3, 4, 5, 6, 7, 8, 9], [0, 0, 1, 1, 2, 2, 3, 3, 4, 5, 6, 7, 8, 9])"
   ]
  },
  {
   "cell_type": "markdown",
   "id": "c4fbc571",
   "metadata": {},
   "source": [
    "### Excercise 14: Merge Sort"
   ]
  },
  {
   "cell_type": "code",
   "execution_count": 7,
   "id": "b65b4672",
   "metadata": {},
   "outputs": [
    {
     "name": "stdout",
     "output_type": "stream",
     "text": [
      "Passed test for []\n",
      "Passed test for [0]\n",
      "Passed test for [1, 2]\n",
      "Passed test for [2, 1]\n",
      "Passed test for [4, 3, 2, 1]\n",
      "Passed test for [1, 2, 3, 4, 5, 6, 7, 8]\n",
      "Passed test for [8, 7, 6, 5, 4, 3, 2, 1]\n",
      "Passed test for [8, 7, 6, 5, 4, 3, 2, 1, 10, 9]\n"
     ]
    }
   ],
   "source": [
    "def merge_sort(xs):\n",
    "    if len(xs)>1:\n",
    "        mid = len(xs)//2\n",
    "        right = merge_sort(xs[:mid])\n",
    "        left = merge_sort(xs[mid:])\n",
    "        xs = merge(left, right)\n",
    "    return xs\n",
    "\n",
    "def test(test_case_xs, expected):\n",
    "    actual = merge_sort(test_case_xs)\n",
    "    if actual == expected:\n",
    "        print(\"Passed test for \" + str(test_case_xs))\n",
    "    else:\n",
    "        print(\"Didn't pass test for \" + str(test_case_xs))\n",
    "        print(\"The result was \" + str(actual) + \" but it should have been \" + str(expected))\n",
    "        \n",
    "test([], [])\n",
    "test([0], [0])\n",
    "test([1, 2], [1, 2])\n",
    "test([2, 1], [1, 2])\n",
    "test([4, 3, 2, 1], [1, 2, 3, 4])\n",
    "test([1, 2, 3, 4, 5, 6, 7, 8], [1, 2, 3, 4, 5, 6, 7, 8])\n",
    "test([8, 7, 6, 5, 4, 3, 2, 1], [1, 2, 3, 4, 5, 6, 7, 8])\n",
    "test([8, 7, 6, 5, 4, 3, 2, 1, 10, 9], [1, 2, 3, 4, 5, 6, 7, 8, 9, 10])"
   ]
  }
 ],
 "metadata": {
  "kernelspec": {
   "display_name": "Python 3 (ipykernel)",
   "language": "python",
   "name": "python3"
  },
  "language_info": {
   "codemirror_mode": {
    "name": "ipython",
    "version": 3
   },
   "file_extension": ".py",
   "mimetype": "text/x-python",
   "name": "python",
   "nbconvert_exporter": "python",
   "pygments_lexer": "ipython3",
   "version": "3.9.7"
  }
 },
 "nbformat": 4,
 "nbformat_minor": 5
}
