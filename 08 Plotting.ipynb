{
 "cells": [
  {
   "cell_type": "markdown",
   "metadata": {},
   "source": [
    "# Introduction\n",
    "\n",
    "Plotting is used to explore data, and is one of the most important tasks that engineers and scientists use computers for. \n",
    "Plots are used to:\n",
    "\n",
    "- present and understand data; and\n",
    "- to check computed results visually.\n",
    "\n",
    "The most widely used Python module for plotting is Matplotlib (<https://matplotlib.org/>), and this is what we will use. Matplotlib is extremely powerful and we will use only a small fraction of its functionality.\n",
    "The material in this notebook will provide you with a basis that you can build \n",
    "upon for more advanced plotting by searching online resources. A good place to start for \n",
    "a wide range of examples is the Matplotlib Gallery (https://matplotlib.org/gallery.html).\n",
    "\n",
    "\n",
    "\n",
    "## Why do we plot programmatically?\n",
    "\n",
    "Producing plots via a program is very powerful. It allows you to explore and manipulate \n",
    "data in sophisticated ways. It also allows you to make plotting interactive; \n",
    "from a large and complex data\n",
    "set you can design interfaces for you and others to query the data and have it displayed graphically, \n",
    "possibly over the Internet.\n",
    "It also allows you to automate the fetching and processing of  data from online sources or \n",
    "from laboratory equipment.\n",
    "\n",
    "\n",
    "## Objectives\n",
    "\n",
    "- Introduction to a programmatic approach to plotting \n",
    "- Create line plots and bar charts from discrete data sets\n",
    "- Create line plots of mathematical functions\n",
    "- Create histograms for distribution-like data \n"
   ]
  },
  {
   "cell_type": "markdown",
   "metadata": {},
   "source": [
    "# Matplotlib\n",
    "\n",
    "Let's first make sure it's installed:"
   ]
  },
  {
   "cell_type": "code",
   "execution_count": null,
   "metadata": {},
   "outputs": [],
   "source": [
    "\n",
    "%pip install matplotlib"
   ]
  },
  {
   "cell_type": "markdown",
   "metadata": {},
   "source": [
    "To use Matplotlib, we need to import it. We will be using the `pyplot` interface to Matplotlib, so we need to import `pyplot` too:"
   ]
  },
  {
   "cell_type": "code",
   "execution_count": null,
   "metadata": {},
   "outputs": [],
   "source": [
    "import matplotlib\n",
    "import matplotlib.pyplot as plt"
   ]
  },
  {
   "cell_type": "markdown",
   "metadata": {},
   "source": [
    "We will be using NumPy when producing plots, so we import it now:"
   ]
  },
  {
   "cell_type": "code",
   "execution_count": null,
   "metadata": {},
   "outputs": [],
   "source": [
    "import numpy as np"
   ]
  },
  {
   "cell_type": "markdown",
   "metadata": {},
   "source": [
    "Matplotlib is a regular Python library that can be used outside of Jupyter notebooks to display plots to the screen or to write plots to a file. To have plots appear inline in a Jupyter notebook, we need the 'magic' command\n",
    "[`%matplotlib inline`](Notebook%20tips.ipynb#Matplotlib):"
   ]
  },
  {
   "cell_type": "code",
   "execution_count": null,
   "metadata": {},
   "outputs": [],
   "source": [
    "%matplotlib inline"
   ]
  },
  {
   "cell_type": "markdown",
   "metadata": {},
   "source": [
    "If you want to increase the default font size, use:\n",
    "```python\n",
    "matplotlib.rcParams.update({'font.size': 16})\n",
    "```"
   ]
  },
  {
   "cell_type": "markdown",
   "metadata": {},
   "source": [
    "# Simple line plots\n",
    "\n",
    "Given the data set\n",
    "\n",
    "$x$ value  | $f$ value\n",
    "----------:|----------:\n",
    "-1         | -1\n",
    "3          | -2\n",
    "4          | 7\n",
    "8          | 13\n",
    "10         | 1\n",
    "\n",
    "we want to create a line plot of $x$-values (horizontal axis) against the $f$ values (vertical axis).\n",
    "\n",
    "We first create a list of `x` values and a list of `f` values:"
   ]
  },
  {
   "cell_type": "code",
   "execution_count": null,
   "metadata": {},
   "outputs": [],
   "source": [
    "x = [-1, 3, 4, 8 , 10]\n",
    "f = [-1, -2, 7, 13 , 1]"
   ]
  },
  {
   "cell_type": "markdown",
   "metadata": {},
   "source": [
    "We now use the `plt.plot` function to produce a line plot:"
   ]
  },
  {
   "cell_type": "code",
   "execution_count": null,
   "metadata": {},
   "outputs": [],
   "source": [
    "plt.plot(x, f)\n",
    "plt.show()"
   ]
  },
  {
   "cell_type": "markdown",
   "metadata": {},
   "source": [
    "Note that `x` and `f` are lists, but they could be any ordered array-like structure, e.g. tuple or NumPy array. \n",
    "\n",
    "We can improve the plot by adding axis labels, a title and dots to indicate data points."
   ]
  },
  {
   "cell_type": "code",
   "execution_count": null,
   "metadata": {},
   "outputs": [],
   "source": [
    "# Plot data with a line and dots at the data points (this is what '-o' does)\n",
    "plt.plot(x, f, '-o')  \n",
    "\n",
    "# Attach labels and title \n",
    "plt.xlabel('x')\n",
    "plt.ylabel('f')\n",
    "plt.title(\"Simple plot of x vs f\")\n",
    "plt.show()"
   ]
  },
  {
   "cell_type": "markdown",
   "metadata": {},
   "source": [
    "To change the colour of the line to red and use crosses at the data points, and to save the\n",
    "plot to the file `my-plot.png`, we can do the following:"
   ]
  },
  {
   "cell_type": "code",
   "execution_count": null,
   "metadata": {},
   "outputs": [],
   "source": [
    "# Plot data with a red solid line and crosses at the data points (this is what '-xr' does)\n",
    "plt.plot(x, f, '-xr')\n",
    "\n",
    "# Attach labels and title\n",
    "plt.xlabel('x')\n",
    "plt.ylabel('f')\n",
    "plt.title(\"Simple plot of f against x\")\n",
    "\n",
    "# Save plot to file\n",
    "plt.savefig(\"my-plot.pdf\")\n",
    "plt.show()"
   ]
  },
  {
   "cell_type": "markdown",
   "metadata": {},
   "source": [
    "Upon executing the notebook, the file `my-plot.png` should appear in the same directory as the notebook.\n",
    "You could use the file to include the plot in a document or presentation."
   ]
  },
  {
   "cell_type": "markdown",
   "metadata": {},
   "source": [
    "# Plotting mathematical functions of one variable\n",
    "\n",
    "Line plots of a mathematical function are created by evaluating the function at a large number of points. If we use enough points, the graph of a function will appear smooth.\n",
    "\n",
    "To plot the function:\n",
    "\n",
    "$$\n",
    "f(x) = \\sin(x)\n",
    "$$\n",
    "\n",
    "the first step is to create an array of values at which we want to evaluate the function. We can use the NumPy function `linspace` to do this: "
   ]
  },
  {
   "cell_type": "code",
   "execution_count": null,
   "metadata": {},
   "outputs": [],
   "source": [
    "num_points = 100\n",
    "x = np.linspace(0, 4*np.pi, num=num_points)"
   ]
  },
  {
   "cell_type": "markdown",
   "metadata": {},
   "source": [
    "The above creates a NumPy array with `num_points` equally spaced values between $0$ and \n",
    "$4 \\pi$, including the end points. We can check this for a smaller example: "
   ]
  },
  {
   "cell_type": "code",
   "execution_count": null,
   "metadata": {
    "tags": []
   },
   "outputs": [],
   "source": [
    "print(np.linspace(0, 2, num=10))"
   ]
  },
  {
   "cell_type": "markdown",
   "metadata": {},
   "source": [
    "To evaluate $\\sin(x)$ for each value in the array `x`, we use the NumPy `sin` function, which can be applied entry-wise to `x`:"
   ]
  },
  {
   "cell_type": "code",
   "execution_count": null,
   "metadata": {},
   "outputs": [],
   "source": [
    "f = np.sin(x)"
   ]
  },
  {
   "cell_type": "markdown",
   "metadata": {},
   "source": [
    "We can now plot `f` against `x`."
   ]
  },
  {
   "cell_type": "code",
   "execution_count": null,
   "metadata": {},
   "outputs": [],
   "source": [
    "plt.plot(x, f)\n",
    "plt.xlabel('x')\n",
    "plt.ylabel('sin(x)')\n",
    "plt.show()"
   ]
  },
  {
   "cell_type": "markdown",
   "metadata": {},
   "source": [
    "We can improve the appearance of the plot by specifying the $x$ limits:"
   ]
  },
  {
   "cell_type": "code",
   "execution_count": null,
   "metadata": {
    "scrolled": true
   },
   "outputs": [],
   "source": [
    "# Plot the graph\n",
    "plt.plot(x, f)\n",
    "\n",
    "# Label the axis\n",
    "plt.xlabel('x')\n",
    "plt.ylabel('sin(x)')\n",
    "\n",
    "# Use the start and end values in x as x limits (recall that x[-1] \n",
    "# returns the last value in x)\n",
    "plt.xlim(x[0], x[-1])\n",
    "\n",
    "plt.show()"
   ]
  },
  {
   "cell_type": "markdown",
   "metadata": {},
   "source": [
    "To plot two functions on one graph, we use `plt.plot` twice:"
   ]
  },
  {
   "cell_type": "code",
   "execution_count": null,
   "metadata": {},
   "outputs": [],
   "source": [
    "x = np.linspace(0, 4*np.pi, num=100)\n",
    "\n",
    "# Plot sin(x) and cos(x), and add label for each\n",
    "plt.plot(x, np.sin(x), label=\"sin(x)\")\n",
    "plt.plot(x, np.cos(x), label=\"cos(x)\")\n",
    "\n",
    "# Label the x-axis\n",
    "plt.xlabel('x')\n",
    "\n",
    "# Add legend\n",
    "plt.legend()\n",
    "\n",
    "# Use the start and end values in x as x limits\n",
    "plt.xlim(x[0], x[-1])\n",
    "\n",
    "plt.show()"
   ]
  },
  {
   "cell_type": "markdown",
   "metadata": {},
   "source": [
    "# Bar charts and histograms"
   ]
  },
  {
   "cell_type": "markdown",
   "metadata": {},
   "source": [
    "## Bar charts\n",
    "\n",
    "The numbers of students in each year of the Engineering Tripos, and graduate students are:"
   ]
  },
  {
   "cell_type": "code",
   "execution_count": null,
   "metadata": {},
   "outputs": [],
   "source": [
    "cohort = ('IA', 'IB', 'IIA', 'IIB', 'Graduate')\n",
    "num_students = (332, 270, 256, 238, 451)"
   ]
  },
  {
   "cell_type": "markdown",
   "metadata": {},
   "source": [
    "We want to represent these figures using a bar chart:"
   ]
  },
  {
   "cell_type": "code",
   "execution_count": null,
   "metadata": {},
   "outputs": [],
   "source": [
    "# Create an array with the position of each bar along the x-axis, e.g [0, 1, 2, 3, 4] \n",
    "x_pos = np.arange(len(cohort))\n",
    "\n",
    "# Produce bar plot\n",
    "plt.bar(x_pos, num_students, align='center');\n",
    "\n",
    "# Replace the x ticks with the Tripos name, and rotate labels 30 degrees\n",
    "plt.xticks(x_pos, cohort, rotation=30)\n",
    "\n",
    "# Add axis labels \n",
    "plt.xlabel('cohort')\n",
    "plt.ylabel('number of students')\n",
    "\n",
    "plt.show()"
   ]
  },
  {
   "cell_type": "markdown",
   "metadata": {},
   "source": [
    "## Histograms\n",
    "\n",
    "To create a histogram we first need a data set. We will use 4000 random values drawn from a normal (Gaussian) distribution with zero mean and standard deviation of one. We can use NumPy to create such an array using:"
   ]
  },
  {
   "cell_type": "code",
   "execution_count": null,
   "metadata": {},
   "outputs": [],
   "source": [
    "# loc=mean, scale=stddev, size=num samples\n",
    "x = np.random.normal(loc=0.0, scale=1.0, size=5000)  "
   ]
  },
  {
   "cell_type": "markdown",
   "metadata": {},
   "source": [
    "We can visualise the distribution of the values using a histogram.\n",
    "A histogram works by collecting data into intervals (bins) along the horizontal axis. \n",
    "The number of values that fall within a 'bin' is then displayed on the vertical axis.\n",
    "Using 20 bins, we can visualise how `x` is distributed:"
   ]
  },
  {
   "cell_type": "code",
   "execution_count": null,
   "metadata": {},
   "outputs": [],
   "source": [
    "# Produce histogram with 20 bins (try changing the number of bins)\n",
    "n, bins, patches = plt.hist(x, 20, facecolor='green');\n",
    "\n",
    "# Add label\n",
    "plt.xlabel('value')\n",
    "plt.ylabel('frequency')\n",
    "\n",
    "plt.show()"
   ]
  },
  {
   "cell_type": "markdown",
   "metadata": {},
   "source": [
    "Matplotlib has automatically created 20 bins of equal width, and computed the number of entries in each bin. We can inspect the bin intervals"
   ]
  },
  {
   "cell_type": "code",
   "execution_count": null,
   "metadata": {
    "tags": []
   },
   "outputs": [],
   "source": [
    "print(bins)"
   ]
  },
  {
   "cell_type": "markdown",
   "metadata": {},
   "source": [
    "And the number of values in each bin:"
   ]
  },
  {
   "cell_type": "code",
   "execution_count": null,
   "metadata": {
    "tags": []
   },
   "outputs": [],
   "source": [
    "print(n)"
   ]
  },
  {
   "cell_type": "markdown",
   "metadata": {},
   "source": [
    "We can mix plot types on a single graph - in the case of a histogram it can be useful to compare against\n",
    "a probability density function. Since we drew the values in `x` from a normal distribution, we expect a normal probability distribution function to be a good fit. Let's test.\n",
    "\n",
    "We can use the module `scipy.stats` to compute the normal probability distribution function. To compare the histogram to a probability density function, the histogram needs to be 'normalised' \n",
    "(so the integral is equal to 1)."
   ]
  },
  {
   "cell_type": "code",
   "execution_count": null,
   "metadata": {},
   "outputs": [],
   "source": [
    "%pip install scipy"
   ]
  },
  {
   "cell_type": "code",
   "execution_count": null,
   "metadata": {},
   "outputs": [],
   "source": [
    "# Import norm from SciPy stats module to compute norm probability distribution function\n",
    "from scipy.stats import norm\n",
    "\n",
    "# Plot normed histogram of data\n",
    "n, bins, patches = plt.hist(x, 20, facecolor='green', alpha=0.75, density=True)\n",
    "\n",
    "# Create array of 100 equally spaces points, stating from the first value in the bins\n",
    "# through to the last values in the bins\n",
    "xf = np.linspace(bins[0], bins[-1], 100)\n",
    "\n",
    "# Evaluate normal probability density function (pdf) at each xf\n",
    "f = norm.pdf(xf)\n",
    "\n",
    "# # Create line plot of normal probability distribution function (blue line)\n",
    "plt.plot(xf, f, 'b')\n",
    "\n",
    "# # Add labels\n",
    "plt.xlabel('value')\n",
    "plt.ylabel('frequency')\n",
    "\n",
    "plt.show()"
   ]
  },
  {
   "cell_type": "markdown",
   "metadata": {},
   "source": [
    "Experiment with the histogram plots by changing the number of samples and the number of bins."
   ]
  },
  {
   "cell_type": "markdown",
   "metadata": {},
   "source": [
    "# Pie charts\n",
    "\n",
    "At the time of the 2011 census, the population of Cambridgeshire by district was:\n",
    "\n",
    "District              | Population\n",
    "---------------------:|------------:\n",
    "Cambridge City        | 123900\n",
    "East Cambridgeshire   | 83800\n",
    "Fenland               | 95300\n",
    "Huntingdonshire       | 169500\n",
    "South Cambridgeshire  | 148800\n",
    "\n",
    "As part of a presentation to the Cambridge City council, we need to produce\n",
    "a pie chart of the Cambridgeshire population by district, indicating the percentage of\n",
    "residents in each district and highlighting the Cambridge City 'slice'.\n",
    "\n",
    "To do this, we first enter the data into tuples :"
   ]
  },
  {
   "cell_type": "code",
   "execution_count": null,
   "metadata": {},
   "outputs": [],
   "source": [
    "district = ('Cambridge City', 'East Cambridgeshire', 'Fenland', 'Huntingdonshire',\n",
    "            'South Cambridgeshire')\n",
    "population = (123900, 83800, 95300, 169500, 148800)"
   ]
  },
  {
   "cell_type": "markdown",
   "metadata": {},
   "source": [
    "Tuples are appropriate because the number of districts is fixed (recall that we can't change the length of a tuple).\n",
    "\n",
    "We next produce a colour pie chart:"
   ]
  },
  {
   "cell_type": "code",
   "execution_count": null,
   "metadata": {},
   "outputs": [],
   "source": [
    "# Specify slice colours \n",
    "# (see https://stackoverflow.com/questions/22408237/named-colors-in-matplotlib)\n",
    "colors = ['yellowgreen', 'gold', 'lightskyblue', 'lightcoral', 'red']\n",
    "\n",
    "# \"explode\" the 1st slice (Cambridge City)\n",
    "explode = (0.1, 0.0, 0, 0, 0)  \n",
    "\n",
    "# Produce pie chart. The slices will be ordered and plotted counter-clockwise.\n",
    "plt.pie(population, explode=explode, labels=district, colors=colors,\n",
    "        autopct='%1.1f%%', shadow=True, startangle=90)\n",
    "\n",
    "# Add title\n",
    "plt.title(\"2011 population distribution in Cambridgeshire\")\n",
    "\n",
    "plt.show()"
   ]
  },
  {
   "cell_type": "markdown",
   "metadata": {
    "deletable": false,
    "editable": false,
    "nbgrader": {
     "cell_type": "markdown",
     "checksum": "8acb2d08e3646dfeb083bc19f1ad7e50",
     "grade": false,
     "grade_id": "cell-2ae2b1794b3463d5",
     "locked": true,
     "schema_version": 3,
     "solution": false
    }
   },
   "source": [
    "## Exercise 08.1 (function plotting)\n",
    "\n",
    "Consider the function \n",
    "$$\n",
    "f(x) = e^{x/10} \\sin(\\omega_{1}x)\\cos(\\omega_{0}x)\n",
    "$$\n",
    "from $x = -4\\pi$ to $x = 4\\pi$."
   ]
  },
  {
   "cell_type": "markdown",
   "metadata": {
    "deletable": false,
    "editable": false,
    "nbgrader": {
     "cell_type": "markdown",
     "checksum": "829dcc103249f5c46c67dd8738848e0e",
     "grade": false,
     "grade_id": "cell-7bbadc15f57cb62e",
     "locked": true,
     "schema_version": 3,
     "solution": false
    }
   },
   "source": [
    "(1) Plot the function when $\\omega_{0} = \\omega_{1} = 1$. Label the axes."
   ]
  },
  {
   "cell_type": "code",
   "execution_count": null,
   "metadata": {
    "deletable": false,
    "editable": false,
    "nbgrader": {
     "cell_type": "code",
     "checksum": "59eda70eb0da3f712de94d757423e124",
     "grade": false,
     "grade_id": "cell-851f16f7d1f512b6",
     "locked": true,
     "schema_version": 3,
     "solution": false
    }
   },
   "outputs": [],
   "source": [
    "%matplotlib inline\n",
    "import numpy as np\n",
    "import matplotlib.pyplot as plt"
   ]
  },
  {
   "cell_type": "code",
   "execution_count": null,
   "metadata": {
    "deletable": false,
    "nbgrader": {
     "cell_type": "code",
     "checksum": "dda339af9d9ff1200c6e690cc736346e",
     "grade": false,
     "grade_id": "cell-c220b6560241ee82",
     "locked": false,
     "schema_version": 3,
     "solution": true
    }
   },
   "outputs": [],
   "source": [
    "num_points = 100\n",
    "x = np.linspace(-4*np.pi, 4*np.pi, num=num_points)\n",
    "\n",
    "f = np.exp(x/10)*np.sin(x)*np.cos(x)\n",
    "# YOUR CODE HERE\n",
    "raise NotImplementedError()"
   ]
  },
  {
   "cell_type": "markdown",
   "metadata": {
    "deletable": false,
    "editable": false,
    "nbgrader": {
     "cell_type": "markdown",
     "checksum": "94ca85f38721a3face01aecf8f91dedd",
     "grade": false,
     "grade_id": "cell-8fa19840a1969ff6",
     "locked": true,
     "schema_version": 3,
     "solution": false
    }
   },
   "source": [
    "## Exercise 08.2 (multiple function plotting)\n",
    "\n",
    "Plot the function \n",
    "\n",
    "$$\n",
    "f(x)  = \\frac{\\sin(x)}{x}\n",
    "$$\n",
    "\n",
    "from $x = -6\\pi$ to $x = 6\\pi$. Think carefully about which $x$ values you use when \n",
    "$x$ is close to zero.\n",
    "  \n",
    "Add to the above plot the graph of $1/ \\left| x \\right|$, and limit the range of the $y$ axis to 1 using\n",
    "`plt.ylim`. (Hint: use `np.abs(x)` to return the absolute values of each \n",
    "component of a NumPy array `x`.)"
   ]
  },
  {
   "cell_type": "code",
   "execution_count": null,
   "metadata": {
    "deletable": false,
    "nbgrader": {
     "cell_type": "code",
     "checksum": "e530357e82442e9fcb34698e9ddd5460",
     "grade": false,
     "grade_id": "cell-4a1bc264d6e1a525",
     "locked": false,
     "schema_version": 3,
     "solution": true
    }
   },
   "outputs": [],
   "source": [
    "# YOUR CODE HERE\n",
    "raise NotImplementedError()"
   ]
  }
 ],
 "metadata": {
  "kernelspec": {
   "display_name": "Python 3",
   "language": "python",
   "name": "python3"
  },
  "language_info": {
   "codemirror_mode": {
    "name": "ipython",
    "version": 3
   },
   "file_extension": ".py",
   "mimetype": "text/x-python",
   "name": "python",
   "nbconvert_exporter": "python",
   "pygments_lexer": "ipython3",
   "version": "3.9.7"
  }
 },
 "nbformat": 4,
 "nbformat_minor": 4
}
