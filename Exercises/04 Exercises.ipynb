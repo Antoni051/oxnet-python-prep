{
 "cells": [
  {
   "cell_type": "markdown",
   "metadata": {
    "deletable": false,
    "editable": false,
    "nbgrader": {
     "cell_type": "markdown",
     "checksum": "e0a9b2e8a53ee557285f579debe9e5cc",
     "grade": false,
     "grade_id": "cell-0dc6eedbed930025",
     "locked": true,
     "schema_version": 3,
     "solution": false
    }
   },
   "source": [
    "## Exercise 04.1 (simple function)\n",
    "\n",
    "Write a function called `is_odd` which takes an integer as an argument and returns `True` if the argument is odd, and otherwise returns `False`. Test your function for several values."
   ]
  },
  {
   "cell_type": "code",
   "execution_count": null,
   "metadata": {
    "deletable": false,
    "nbgrader": {
     "cell_type": "code",
     "checksum": "a02ca20847904f8b06f9f4e363f7793f",
     "grade": false,
     "grade_id": "cell-f07e8ac1f9838913",
     "locked": false,
     "schema_version": 3,
     "solution": true
    }
   },
   "outputs": [],
   "source": [
    "def is_odd(x):\n",
    "    # YOUR CODE HERE\n",
    "    raise NotImplementedError()"
   ]
  },
  {
   "cell_type": "code",
   "execution_count": null,
   "metadata": {
    "deletable": false,
    "editable": false,
    "nbgrader": {
     "cell_type": "code",
     "checksum": "1c1d897bf819677735ebbabd84478b5a",
     "grade": true,
     "grade_id": "cell-8a4ca795d9fa96dd",
     "locked": true,
     "points": 0,
     "schema_version": 3,
     "solution": false
    }
   },
   "outputs": [],
   "source": [
    "assert is_odd(0) == False\n",
    "assert is_odd(101) == True\n",
    "assert is_odd(982) == False \n",
    "assert is_odd(-5) == True\n",
    "assert is_odd(-8) == False"
   ]
  },
  {
   "cell_type": "markdown",
   "metadata": {
    "deletable": false,
    "editable": false,
    "nbgrader": {
     "cell_type": "markdown",
     "checksum": "34d59ab6e239d09f5de616f9f8d7a54d",
     "grade": false,
     "grade_id": "cell-5ff5517961853849",
     "locked": true,
     "schema_version": 3,
     "solution": false
    }
   },
   "source": [
    "## Exercise 04.2 (functions and default arguments)\n",
    "\n",
    "Write a single function named `magnitude` that takes each component of a vector of length 2 or 3 and returns the magnitude.\n",
    "Use default arguments to handle vectors of length 2 or 3 with the same code. Test your function for correctness against hand calculations for a selection of values."
   ]
  },
  {
   "cell_type": "code",
   "execution_count": null,
   "metadata": {
    "deletable": false,
    "nbgrader": {
     "cell_type": "code",
     "checksum": "eb3b0a0798740195ebc614523189be95",
     "grade": false,
     "grade_id": "cell-693a09b45c6bb532",
     "locked": false,
     "schema_version": 3,
     "solution": true
    }
   },
   "outputs": [],
   "source": [
    "import math\n",
    "# YOUR CODE HERE\n",
    "raise NotImplementedError()"
   ]
  },
  {
   "cell_type": "code",
   "execution_count": null,
   "metadata": {
    "deletable": false,
    "editable": false,
    "nbgrader": {
     "cell_type": "code",
     "checksum": "53cdb70056d8af7e0a1d29feffbe9ccc",
     "grade": true,
     "grade_id": "cell-384a85ba97b226d7",
     "locked": true,
     "points": 0,
     "schema_version": 3,
     "solution": false
    }
   },
   "outputs": [],
   "source": [
    "assert round(magnitude(3, 4) - 5.0, 10) == 0.0\n",
    "assert round(magnitude(4, 3) - 5.0, 10) == 0.0\n",
    "assert round(magnitude(4, 3, 0.0)- 5.0, 10) == 0.0\n",
    "assert round(magnitude(4, 0.0, 3.0) - 5.0, 10) == 0.0\n",
    "assert round(magnitude(3, 4, 4) - 6.403124237, 8) == 0.0"
   ]
  },
  {
   "cell_type": "markdown",
   "metadata": {
    "deletable": false,
    "editable": false,
    "nbgrader": {
     "cell_type": "markdown",
     "checksum": "41dbb0a818ccdedb37806cea8a5e4866",
     "grade": false,
     "grade_id": "cell-668d765c259431ca",
     "locked": true,
     "schema_version": 3,
     "solution": false
    }
   },
   "source": [
    "## Exercise 04.3 (functions)\n",
    "\n",
    "Given the coordinates of the vertices of a triangle, $(x_0, y_0)$, $(x_1, y_1)$ and $(x_2, y_2)$, the area $A$ of the triangle is given by:\n",
    "$$\n",
    "A = \\left| \\frac{x_0(y_1  - y_2) + x_1(y_2 - y_0) + x_2(y_0 - y_1)}{2} \\right|\n",
    "$$\n",
    "Write a function named `area` that computes the area of a triangle given the coordinates of the vertices.\n",
    "The order of the function arguments must be (`x0, y0, x1, y1, x2, y2)`.\n",
    "\n",
    "Test the output of your function against some known solutions."
   ]
  },
  {
   "cell_type": "code",
   "execution_count": null,
   "metadata": {
    "deletable": false,
    "nbgrader": {
     "cell_type": "code",
     "checksum": "57a01efe35b4f958c2cfea74b0f11088",
     "grade": false,
     "grade_id": "cell-ed02439d4509b2c1",
     "locked": false,
     "schema_version": 3,
     "solution": true
    }
   },
   "outputs": [],
   "source": [
    "# YOUR CODE HERE\n",
    "raise NotImplementedError()"
   ]
  },
  {
   "cell_type": "code",
   "execution_count": null,
   "metadata": {
    "deletable": false,
    "editable": false,
    "nbgrader": {
     "cell_type": "code",
     "checksum": "940773ef0980f1e545e0b29f04d732a9",
     "grade": true,
     "grade_id": "cell-64f8b6708595aed3",
     "locked": true,
     "points": 0,
     "schema_version": 3,
     "solution": false
    }
   },
   "outputs": [],
   "source": [
    "x0, y0 = 0.0, 0.0\n",
    "x1, y1 = 0.0, 2.0\n",
    "x2, y2 = 3.0, 0.0\n",
    "A = area(x0, y0, x1, y1, x2, y2)\n",
    "assert round(A - 3.0, 10) == 0.0"
   ]
  }
 ],
 "metadata": {
  "kernelspec": {
   "display_name": "Python 3",
   "language": "python",
   "name": "python3"
  },
  "language_info": {
   "codemirror_mode": {
    "name": "ipython",
    "version": 3
   },
   "file_extension": ".py",
   "mimetype": "text/x-python",
   "name": "python",
   "nbconvert_exporter": "python",
   "pygments_lexer": "ipython3",
   "version": "3.8.5"
  }
 },
 "nbformat": 4,
 "nbformat_minor": 4
}
