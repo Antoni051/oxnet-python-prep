{
 "cells": [
  {
   "cell_type": "markdown",
   "metadata": {
    "deletable": false,
    "editable": false,
    "nbgrader": {
     "cell_type": "markdown",
     "checksum": "75c425aff1f0a436daf36404c8ba2ab1",
     "grade": false,
     "grade_id": "cell-ea6c1e4c217d0584",
     "locked": true,
     "schema_version": 3,
     "solution": false
    }
   },
   "source": [
    "Import the NumPy and Matplotlib modules:"
   ]
  },
  {
   "cell_type": "code",
   "execution_count": 1,
   "metadata": {
    "deletable": false,
    "editable": false,
    "nbgrader": {
     "cell_type": "code",
     "checksum": "59eda70eb0da3f712de94d757423e124",
     "grade": false,
     "grade_id": "cell-851f16f7d1f512b6",
     "locked": true,
     "schema_version": 3,
     "solution": false
    }
   },
   "outputs": [],
   "source": [
    "%matplotlib inline\n",
    "import numpy as np\n",
    "import matplotlib.pyplot as plt"
   ]
  },
  {
   "cell_type": "markdown",
   "metadata": {
    "deletable": false,
    "editable": false,
    "nbgrader": {
     "cell_type": "markdown",
     "checksum": "8acb2d08e3646dfeb083bc19f1ad7e50",
     "grade": false,
     "grade_id": "cell-2ae2b1794b3463d5",
     "locked": true,
     "schema_version": 3,
     "solution": false
    }
   },
   "source": [
    "## Exercise 08.1 (function plotting)\n",
    "\n",
    "Consider the function \n",
    "$$\n",
    "f(x) = e^{x/10} \\sin(\\omega_{1}x)\\cos(\\omega_{0}x)\n",
    "$$\n",
    "from $x = -4\\pi$ to $x = 4\\pi$."
   ]
  },
  {
   "cell_type": "markdown",
   "metadata": {
    "deletable": false,
    "editable": false,
    "nbgrader": {
     "cell_type": "markdown",
     "checksum": "829dcc103249f5c46c67dd8738848e0e",
     "grade": false,
     "grade_id": "cell-7bbadc15f57cb62e",
     "locked": true,
     "schema_version": 3,
     "solution": false
    }
   },
   "source": [
    "(1) Plot the function when $\\omega_{0} = \\omega_{1} = 1$. Label the axes."
   ]
  },
  {
   "cell_type": "code",
   "execution_count": 2,
   "metadata": {
    "deletable": false,
    "nbgrader": {
     "cell_type": "code",
     "checksum": "dda339af9d9ff1200c6e690cc736346e",
     "grade": false,
     "grade_id": "cell-c220b6560241ee82",
     "locked": false,
     "schema_version": 3,
     "solution": true
    }
   },
   "outputs": [
    {
     "ename": "NotImplementedError",
     "evalue": "",
     "output_type": "error",
     "traceback": [
      "\u001b[0;31m---------------------------------------------------------------------------\u001b[0m",
      "\u001b[0;31mNotImplementedError\u001b[0m                       Traceback (most recent call last)",
      "\u001b[0;32m/var/folders/2r/32c_88251s5_lt_bfbr7c7gw0000gn/T/ipykernel_90814/49574714.py\u001b[0m in \u001b[0;36m<module>\u001b[0;34m\u001b[0m\n\u001b[1;32m      4\u001b[0m \u001b[0mf\u001b[0m \u001b[0;34m=\u001b[0m \u001b[0mnp\u001b[0m\u001b[0;34m.\u001b[0m\u001b[0mexp\u001b[0m\u001b[0;34m(\u001b[0m\u001b[0mx\u001b[0m\u001b[0;34m/\u001b[0m\u001b[0;36m10\u001b[0m\u001b[0;34m)\u001b[0m\u001b[0;34m*\u001b[0m\u001b[0mnp\u001b[0m\u001b[0;34m.\u001b[0m\u001b[0msin\u001b[0m\u001b[0;34m(\u001b[0m\u001b[0mx\u001b[0m\u001b[0;34m)\u001b[0m\u001b[0;34m*\u001b[0m\u001b[0mnp\u001b[0m\u001b[0;34m.\u001b[0m\u001b[0mcos\u001b[0m\u001b[0;34m(\u001b[0m\u001b[0mx\u001b[0m\u001b[0;34m)\u001b[0m\u001b[0;34m\u001b[0m\u001b[0;34m\u001b[0m\u001b[0m\n\u001b[1;32m      5\u001b[0m \u001b[0;31m# YOUR CODE HERE\u001b[0m\u001b[0;34m\u001b[0m\u001b[0;34m\u001b[0m\u001b[0m\n\u001b[0;32m----> 6\u001b[0;31m \u001b[0;32mraise\u001b[0m \u001b[0mNotImplementedError\u001b[0m\u001b[0;34m(\u001b[0m\u001b[0;34m)\u001b[0m\u001b[0;34m\u001b[0m\u001b[0;34m\u001b[0m\u001b[0m\n\u001b[0m",
      "\u001b[0;31mNotImplementedError\u001b[0m: "
     ]
    }
   ],
   "source": [
    "num_points = 100\n",
    "x = np.linspace(-4*np.pi, 4*np.pi, num=num_points)\n",
    "\n",
    "f = np.exp(x/10)*np.sin(x)*np.cos(x)\n",
    "# YOUR CODE HERE\n",
    "raise NotImplementedError()"
   ]
  },
  {
   "cell_type": "markdown",
   "metadata": {
    "deletable": false,
    "editable": false,
    "nbgrader": {
     "cell_type": "markdown",
     "checksum": "94ca85f38721a3face01aecf8f91dedd",
     "grade": false,
     "grade_id": "cell-8fa19840a1969ff6",
     "locked": true,
     "schema_version": 3,
     "solution": false
    }
   },
   "source": [
    "## Exercise 08.2 (multiple function plotting)\n",
    "\n",
    "Plot the function \n",
    "\n",
    "$$\n",
    "f(x)  = \\frac{\\sin(x)}{x}\n",
    "$$\n",
    "\n",
    "from $x = -6\\pi$ to $x = 6\\pi$. Think carefully about which $x$ values you use when \n",
    "$x$ is close to zero.\n",
    "  \n",
    "Add to the above plot the graph of $1/ \\left| x \\right|$, and limit the range of the $y$ axis to 1 using\n",
    "`plt.ylim`. (Hint: use `np.abs(x)` to return the absolute values of each \n",
    "component of a NumPy array `x`.)"
   ]
  },
  {
   "cell_type": "code",
   "execution_count": null,
   "metadata": {
    "deletable": false,
    "nbgrader": {
     "cell_type": "code",
     "checksum": "e530357e82442e9fcb34698e9ddd5460",
     "grade": false,
     "grade_id": "cell-4a1bc264d6e1a525",
     "locked": false,
     "schema_version": 3,
     "solution": true
    }
   },
   "outputs": [],
   "source": [
    "# YOUR CODE HERE\n",
    "raise NotImplementedError()"
   ]
  }
 ],
 "metadata": {
  "kernelspec": {
   "display_name": "Python 3",
   "language": "python",
   "name": "python3"
  },
  "language_info": {
   "codemirror_mode": {
    "name": "ipython",
    "version": 3
   },
   "file_extension": ".py",
   "mimetype": "text/x-python",
   "name": "python",
   "nbconvert_exporter": "python",
   "pygments_lexer": "ipython3",
   "version": "3.9.7"
  },
  "widgets": {
   "state": {
    "248f5fcae0454540b7cd3ac136ba81ad": {
     "views": [
      {
       "cell_index": 11
      }
     ]
    },
    "383c4f93cc414843afd9d350dad99c75": {
     "views": [
      {
       "cell_index": 5
      }
     ]
    }
   },
   "version": "1.2.0"
  }
 },
 "nbformat": 4,
 "nbformat_minor": 4
}
